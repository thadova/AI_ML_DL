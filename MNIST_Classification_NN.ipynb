{
  "nbformat": 4,
  "nbformat_minor": 0,
  "metadata": {
    "colab": {
      "provenance": []
    },
    "kernelspec": {
      "name": "python3",
      "display_name": "Python 3"
    },
    "language_info": {
      "name": "python"
    }
  },
  "cells": [
    {
      "cell_type": "code",
      "execution_count": 1,
      "metadata": {
        "colab": {
          "base_uri": "https://localhost:8080/"
        },
        "id": "u30vvOQq5NnH",
        "outputId": "da2bf706-5dac-4c92-8453-383c7df80c39"
      },
      "outputs": [
        {
          "output_type": "stream",
          "name": "stdout",
          "text": [
            "Mounted at /content/gdrive\n"
          ]
        }
      ],
      "source": [
        "from google.colab import drive \n",
        "drive.mount(\"/content/gdrive\")"
      ]
    },
    {
      "cell_type": "code",
      "source": [
        "# declare the libs, modules | khai bao thu vien\n",
        "import numpy as np\n",
        "import matplotlib.pyplot as plt\n",
        "import cv2\n",
        "import os\n",
        "import keras\n",
        "from keras.models import Model, load_model, Sequential\n",
        "from tensorflow.keras import Input\n",
        "from keras.layers import Dense, Flatten\n",
        "from keras.datasets import mnist\n",
        "from keras.utils import np_utils\n",
        "from tensorflow.keras.optimizers import Adam\n",
        "from sklearn.metrics import confusion_matrix\n",
        "import seaborn as sns"
      ],
      "metadata": {
        "id": "FS3ttPIB5f0X"
      },
      "execution_count": 14,
      "outputs": []
    },
    {
      "cell_type": "markdown",
      "source": [
        "#Load the MNIST dataset | Tai bo du lieu anh chu viet tay MNIST"
      ],
      "metadata": {
        "id": "_iCpHLsW56O-"
      }
    },
    {
      "cell_type": "code",
      "source": [
        "# Lấy data train và test trong bộ mnist\n",
        "(x_train, y_train), (x_test, y_test) = mnist.load_data()\n",
        "# Đếm dữ liệu cho train với test\n",
        "print(\"Number of image for training: {}\".format(len(x_train)))\n",
        "print(\"Number of image for testing: {}\".format(len(x_test)))"
      ],
      "metadata": {
        "colab": {
          "base_uri": "https://localhost:8080/"
        },
        "id": "5a2nFdiD5zVK",
        "outputId": "cac07bb5-4549-4d40-9dca-f922d84bae8b"
      },
      "execution_count": 15,
      "outputs": [
        {
          "output_type": "stream",
          "name": "stdout",
          "text": [
            "Number of image for training: 60000\n",
            "Number of image for testing: 10000\n"
          ]
        }
      ]
    },
    {
      "cell_type": "markdown",
      "source": [
        "#Split a part of train set for a validation set"
      ],
      "metadata": {
        "id": "CnQeA8MA6uu0"
      }
    },
    {
      "cell_type": "code",
      "source": [
        "# Chia tập validation với tỉ lệ 4:1 với tập train\n",
        "x_val, y_val = x_train[48000:60000, :, :], y_train[48000:60000]\n",
        "x_train, y_train = x_train[:48000, :, :], y_train[:48000]\n",
        "print(\"Number of image for training: {}\".format(len(x_train)))\n",
        "print(\"Number of image for validating: {}\".format(len(x_val)))"
      ],
      "metadata": {
        "colab": {
          "base_uri": "https://localhost:8080/"
        },
        "id": "25FzJRyK6MeZ",
        "outputId": "dfd564ff-3349-4f51-ed59-c1407e8d4ab5"
      },
      "execution_count": 16,
      "outputs": [
        {
          "output_type": "stream",
          "name": "stdout",
          "text": [
            "Number of image for training: 48000\n",
            "Number of image for validating: 12000\n"
          ]
        }
      ]
    },
    {
      "cell_type": "markdown",
      "source": [
        "#Show samples for instances in dataset"
      ],
      "metadata": {
        "id": "IH099Kmd6tTQ"
      }
    },
    {
      "cell_type": "code",
      "source": [
        "# Hiển thị 25 hình ảnh trong bộ Mnist\n",
        "plt.figure(figsize=(10, 10))\n",
        "for i in range (25):\n",
        "  # Vẽ ảnh vào lần lượt các ô trong 25 ô từ trái qua phải trên xuống dưới\n",
        "  # ví dụ plt.subplot(6, 6, i + 1) thì điền lần lượt 36 ô từ trái qua phải từ trên xuống dưới\n",
        "  plt.subplot(5, 5, i+1)\n",
        "  plt.xticks([])\n",
        "  plt.yticks([])\n",
        "  plt.grid(False)\n",
        "  plt.imshow(x_train[i], cmap = plt.cm.binary)\n",
        "  # Các vector trong y_train hay là nhãn của tập huấn luyện có dạng [1, 0, 0,.., 0] thì vị trí của số 1 là thuộc lớp ý \n",
        "  # Ví dụ 9 số và dữ liệu A = [0, 0, 1, 0, 0, 0, 0, 0, 0, 0] thì np.argmax trả ra vị trí có giá trị cao nhất\n",
        "  # Do đó vị trí cao nhất trong A là 2 thì A thuộc class số 2 (tức là số 2)\n",
        "  plt.xlabel(np.argmax(y_train[i]))\n",
        "plt.show()"
      ],
      "metadata": {
        "colab": {
          "base_uri": "https://localhost:8080/",
          "height": 589
        },
        "id": "Sd8nIUXS6sTL",
        "outputId": "5c9a7246-8da7-4338-8ed3-5e2e34cd6470"
      },
      "execution_count": 17,
      "outputs": [
        {
          "output_type": "display_data",
          "data": {
            "text/plain": [
              "<Figure size 720x720 with 25 Axes>"
            ],
            "image/png": "[encoded data removed]"
          },
          "metadata": {}
        }
      ]
    },
    {
      "cell_type": "markdown",
      "source": [
        "#Data processing"
      ],
      "metadata": {
        "id": "IMvB_M5W7Zu2"
      }
    },
    {
      "cell_type": "code",
      "source": [
        "# Bước này mình chuyển shape của các array \n",
        "# Ví dụ: x_train shape ban đầu (60000, 28, 28) chuyển thành (60000, 28, 28, 1)\n",
        "# (28, 28, 3)\n",
        "x_train = x_train.reshape((x_train.shape[0], 28, 28, 1))\n",
        "x_val = x_val.reshape((x_val.shape[0], 28, 28, 1))\n",
        "x_test = x_test.reshape((x_test.shape[0], 28, 28, 1))\n",
        "\n",
        "# Chuẩn hóa dữ liệu theo MinMaxScaler (do trong pixel thì cao nhất 255 còn nhỏ nhất là 0) nên có công thức ở dưới\n",
        "# Công thức đầy đủ chuyển từ [0, 255] sang [0, 1]\n",
        "# x_moi = (x_cu - min)/(max - min) = (x_cu - 0)/(255 - 0) nên ta có công thức dưới\n",
        "x_train = x_train/255.0\n",
        "x_val = x_val/255.0\n",
        "x_test = x_test/255.0"
      ],
      "metadata": {
        "id": "23dXuXNL7MlQ"
      },
      "execution_count": 18,
      "outputs": []
    },
    {
      "cell_type": "markdown",
      "source": [
        "#Convert label/output to one-hot vector"
      ],
      "metadata": {
        "id": "Khnr9-F79A3C"
      }
    },
    {
      "cell_type": "code",
      "source": [
        "# Xem qua target\n",
        "print(y_train[0])"
      ],
      "metadata": {
        "colab": {
          "base_uri": "https://localhost:8080/"
        },
        "id": "_sjPf7hO7m92",
        "outputId": "c46c2cc3-8d74-4af4-8349-a56c77650799"
      },
      "execution_count": 12,
      "outputs": [
        {
          "output_type": "stream",
          "name": "stdout",
          "text": [
            "5\n"
          ]
        }
      ]
    },
    {
      "cell_type": "code",
      "source": [
        "# Chuyển các label sang dạng one hot coding\n",
        "# Ví dụ 4 -> [0 0 0 0 1 0 0 0 0 0]\n",
        "y_train = np_utils.to_categorical(y_train)\n",
        "y_val = np_utils.to_categorical(y_val)\n",
        "y_test = np_utils.to_categorical(y_test)\n",
        "print(y_train[0])\n",
        "print(y_test[0])\n",
        "print(y_val[0])"
      ],
      "metadata": {
        "colab": {
          "base_uri": "https://localhost:8080/"
        },
        "id": "FjNJLSls89Ki",
        "outputId": "f66aea07-c620-4981-ffd3-4eb7dac8c3e7"
      },
      "execution_count": 19,
      "outputs": [
        {
          "output_type": "stream",
          "name": "stdout",
          "text": [
            "[0. 0. 0. 0. 0. 1. 0. 0. 0. 0.]\n",
            "[0. 0. 0. 0. 0. 0. 0. 1. 0. 0.]\n",
            "[0. 0. 0. 0. 1. 0. 0. 0. 0. 0.]\n"
          ]
        }
      ]
    },
    {
      "cell_type": "code",
      "source": [
        "y_train"
      ],
      "metadata": {
        "id": "oQtbUEUg9JJs"
      },
      "execution_count": null,
      "outputs": []
    },
    {
      "cell_type": "markdown",
      "source": [
        "#Build the NN model"
      ],
      "metadata": {
        "id": "7dQ5C8o09TvE"
      }
    },
    {
      "cell_type": "code",
      "source": [
        "# Định nghĩa model\n",
        "# Cái sequence này giống như 1 cái stack (LIFO)\n",
        "# mọi người hiểu đơn giản như này ví dụ ta có 1 cái stack rỗng [] thì khi add thêm lần lượt a và b vào thì có [b, a]\n",
        "model = Sequential()\n",
        "# (28, 28, 3)\n",
        "model.add(Input(shape = (28, 28, 1)))\n",
        "# Duỗi ảnh thành dạng vector ví dụ (28, 28, ) --> (784, )\n",
        "model.add(Flatten())\n",
        "# Các lớp fully connected thường dùng hàm kích hoạt relu do sigmoid và tanh có thể xảy ra hiện tượng mất mát gradient\n",
        "# Tuy nhiên trong thực tế vẫn có thể dùng sigmoid vs tanh trong một số bài toán sau này\n",
        "model.add(Dense(128, activation = \"relu\"))\n",
        "model.add(Dense(64, activation = \"relu\"))\n",
        "model.add(Dense(64, activation = \"relu\"))\n",
        "model.add(Dense(32, activation = \"relu\"))\n",
        "model.add(Dense(10, activation = \"softmax\"))"
      ],
      "metadata": {
        "id": "swkSzQi09Ywa"
      },
      "execution_count": 20,
      "outputs": []
    },
    {
      "cell_type": "code",
      "source": [
        "# Compile mô hình: loss, optimizer, metrics\n",
        "model.compile(loss = \"categorical_crossentropy\", optimizer = Adam(learning_rate = 0.001), metrics = [\"accuracy\"])\n",
        "# Tóm tắt mô hình\n",
        "model.summary()\n",
        "\n",
        "# Tính só tham số (filter_trc + 1) *(filter_sau)\n",
        "\n",
        "# dense_36 = (784 + 1) x 128 = 100480\n",
        "# dense_37 (128 + 1) x 64 = 8256"
      ],
      "metadata": {
        "colab": {
          "base_uri": "https://localhost:8080/"
        },
        "id": "o_-8C-G69g_r",
        "outputId": "e9379a35-cbca-451b-d067-13fbbebe00fe"
      },
      "execution_count": 21,
      "outputs": [
        {
          "output_type": "stream",
          "name": "stdout",
          "text": [
            "Model: \"sequential\"\n",
            "_________________________________________________________________\n",
            " Layer (type)                Output Shape              Param #   \n",
            "=================================================================\n",
            " flatten (Flatten)           (None, 784)               0         \n",
            "                                                                 \n",
            " dense (Dense)               (None, 128)               100480    \n",
            "                                                                 \n",
            " dense_1 (Dense)             (None, 64)                8256      \n",
            "                                                                 \n",
            " dense_2 (Dense)             (None, 64)                4160      \n",
            "                                                                 \n",
            " dense_3 (Dense)             (None, 32)                2080      \n",
            "                                                                 \n",
            " dense_4 (Dense)             (None, 10)                330       \n",
            "                                                                 \n",
            "=================================================================\n",
            "Total params: 115,306\n",
            "Trainable params: 115,306\n",
            "Non-trainable params: 0\n",
            "_________________________________________________________________\n"
          ]
        }
      ]
    },
    {
      "cell_type": "code",
      "source": [
        "# Tính step per epoch, validation step\n",
        "# Kích cỡ 1 batch trong 1 lần huấn luyện\n",
        "batch_size = 32\n",
        "steps_per_epoch = 0\n",
        "validation_step = 0\n",
        "\n",
        "# Tính các bước trong 1 epoch huấn luyện \n",
        "# Do kích cỡ 1 batch là 32 dữ liệu nên số bước là tổng số dữ liệu chia 32 (+ 1 nếu ko chia hết nhưng thực tế đôi khi không cần thiết)\n",
        "if len(x_train) % 32:\n",
        "    steps_per_epoch = len(x_train) // 32 + 1\n",
        "else:\n",
        "    steps_per_epoch = len(x_train) / 32\n",
        "\n",
        "if len(x_val) % 32:\n",
        "    validation_step = len(x_val) // 32 + 1\n",
        "else:\n",
        "    validation_step = len(x_val) / 32\n",
        "\n",
        "# Bắt đầu huấn luyện mô hình \n",
        "# model.fit(dữ liệu train, nhãn train, dữ liệu tập xác thực, kích cỡ batch, số epoch, số bước trong 1 epoch trong train, số bước 1 epoch trong val)\n",
        "history = model.fit(x_train, y_train, validation_data = (x_val, y_val), batch_size = 32, epochs = 20, steps_per_epoch = steps_per_epoch, validation_steps= validation_step)"
      ],
      "metadata": {
        "colab": {
          "base_uri": "https://localhost:8080/"
        },
        "id": "AUd5QHVQ-XJX",
        "outputId": "13c6aa8b-e3a6-4f10-cb92-420e9b96e1e7"
      },
      "execution_count": 22,
      "outputs": [
        {
          "output_type": "stream",
          "name": "stdout",
          "text": [
            "Epoch 1/20\n",
            "1500/1500 [==============================] - 10s 6ms/step - loss: 0.2968 - accuracy: 0.9087 - val_loss: 0.1430 - val_accuracy: 0.9580\n",
            "Epoch 2/20\n",
            "1500/1500 [==============================] - 6s 4ms/step - loss: 0.1160 - accuracy: 0.9648 - val_loss: 0.1130 - val_accuracy: 0.9662\n",
            "Epoch 3/20\n",
            "1500/1500 [==============================] - 7s 5ms/step - loss: 0.0835 - accuracy: 0.9741 - val_loss: 0.1071 - val_accuracy: 0.9708\n",
            "Epoch 4/20\n",
            "1500/1500 [==============================] - 7s 5ms/step - loss: 0.0661 - accuracy: 0.9793 - val_loss: 0.0941 - val_accuracy: 0.9708\n",
            "Epoch 5/20\n",
            "1500/1500 [==============================] - 7s 4ms/step - loss: 0.0529 - accuracy: 0.9833 - val_loss: 0.0960 - val_accuracy: 0.9743\n",
            "Epoch 6/20\n",
            "1500/1500 [==============================] - 6s 4ms/step - loss: 0.0438 - accuracy: 0.9864 - val_loss: 0.1126 - val_accuracy: 0.9729\n",
            "Epoch 7/20\n",
            "1500/1500 [==============================] - 8s 5ms/step - loss: 0.0377 - accuracy: 0.9878 - val_loss: 0.1167 - val_accuracy: 0.9701\n",
            "Epoch 8/20\n",
            "1500/1500 [==============================] - 9s 6ms/step - loss: 0.0348 - accuracy: 0.9888 - val_loss: 0.1186 - val_accuracy: 0.9734\n",
            "Epoch 9/20\n",
            "1500/1500 [==============================] - 9s 6ms/step - loss: 0.0289 - accuracy: 0.9905 - val_loss: 0.1008 - val_accuracy: 0.9760\n",
            "Epoch 10/20\n",
            "1500/1500 [==============================] - 14s 9ms/step - loss: 0.0264 - accuracy: 0.9913 - val_loss: 0.1211 - val_accuracy: 0.9712\n",
            "Epoch 11/20\n",
            "1500/1500 [==============================] - 7s 5ms/step - loss: 0.0238 - accuracy: 0.9920 - val_loss: 0.1103 - val_accuracy: 0.9753\n",
            "Epoch 12/20\n",
            "1500/1500 [==============================] - 7s 4ms/step - loss: 0.0229 - accuracy: 0.9925 - val_loss: 0.1128 - val_accuracy: 0.9736\n",
            "Epoch 13/20\n",
            "1500/1500 [==============================] - 7s 4ms/step - loss: 0.0181 - accuracy: 0.9945 - val_loss: 0.1329 - val_accuracy: 0.9732\n",
            "Epoch 14/20\n",
            "1500/1500 [==============================] - 7s 4ms/step - loss: 0.0209 - accuracy: 0.9933 - val_loss: 0.1205 - val_accuracy: 0.9746\n",
            "Epoch 15/20\n",
            "1500/1500 [==============================] - 6s 4ms/step - loss: 0.0162 - accuracy: 0.9949 - val_loss: 0.1157 - val_accuracy: 0.9753\n",
            "Epoch 16/20\n",
            "1500/1500 [==============================] - 6s 4ms/step - loss: 0.0159 - accuracy: 0.9950 - val_loss: 0.1388 - val_accuracy: 0.9711\n",
            "Epoch 17/20\n",
            "1500/1500 [==============================] - 7s 5ms/step - loss: 0.0203 - accuracy: 0.9936 - val_loss: 0.1154 - val_accuracy: 0.9757\n",
            "Epoch 18/20\n",
            "1500/1500 [==============================] - 6s 4ms/step - loss: 0.0144 - accuracy: 0.9957 - val_loss: 0.1266 - val_accuracy: 0.9738\n",
            "Epoch 19/20\n",
            "1500/1500 [==============================] - 6s 4ms/step - loss: 0.0118 - accuracy: 0.9966 - val_loss: 0.1400 - val_accuracy: 0.9746\n",
            "Epoch 20/20\n",
            "1500/1500 [==============================] - 6s 4ms/step - loss: 0.0152 - accuracy: 0.9956 - val_loss: 0.1350 - val_accuracy: 0.9759\n"
          ]
        }
      ]
    },
    {
      "cell_type": "code",
      "source": [
        "# Lưu mô hình\n",
        "model.save(\"model_0.9956.h5\")"
      ],
      "metadata": {
        "id": "NmahnDDd-ks-"
      },
      "execution_count": 24,
      "outputs": []
    },
    {
      "cell_type": "code",
      "source": [
        "# Load lại mô hình đã lưu\n",
        "model1 = load_model(\"model_0.9956.h5\")\n",
        "# Kiểm thử mô hình\n",
        "model1.evaluate(x_test, y_test)"
      ],
      "metadata": {
        "colab": {
          "base_uri": "https://localhost:8080/"
        },
        "id": "ldOyHOvd-mYZ",
        "outputId": "8af9895a-98aa-4502-ee99-566f05da841a"
      },
      "execution_count": 25,
      "outputs": [
        {
          "output_type": "stream",
          "name": "stdout",
          "text": [
            "313/313 [==============================] - 1s 2ms/step - loss: 0.1038 - accuracy: 0.9790\n"
          ]
        },
        {
          "output_type": "execute_result",
          "data": {
            "text/plain": [
              "[0.10381917655467987, 0.9789999723434448]"
            ]
          },
          "metadata": {},
          "execution_count": 25
        }
      ]
    },
    {
      "cell_type": "code",
      "source": [
        "y_pred = np.array([np.argmax(i) for i in model1.predict(x_test)])\n",
        "y_true = np.array([np.argmax(i) for i in y_test])\n",
        "# Cái này là confusion matrix (trục tung là giá trị đúng và hoành là đoán ra)\n",
        "sns.heatmap(confusion_matrix(y_true, y_pred), annot = True)"
      ],
      "metadata": {
        "colab": {
          "base_uri": "https://localhost:8080/",
          "height": 300
        },
        "id": "eAyc5172-oK7",
        "outputId": "960fb2c9-eb00-4e57-917f-1d55c35e3c6e"
      },
      "execution_count": 26,
      "outputs": [
        {
          "output_type": "stream",
          "name": "stdout",
          "text": [
            "313/313 [==============================] - 1s 2ms/step\n"
          ]
        },
        {
          "output_type": "execute_result",
          "data": {
            "text/plain": [
              "<matplotlib.axes._subplots.AxesSubplot at 0x7fcf1b799ed0>"
            ]
          },
          "metadata": {},
          "execution_count": 26
        },
        {
          "output_type": "display_data",
          "data": {
            "text/plain": [
              "<Figure size 432x288 with 2 Axes>"
            ],
            "image/png": "[encoded data removed]"
          },
          "metadata": {
            "needs_background": "light"
          }
        }
      ]
    },
    {
      "cell_type": "code",
      "source": [
        "# Vẽ hàm mất mát thay đổi trong huần luyện\n",
        "numOfEpoch = 20\n",
        "plt.plot(list(map(int, np.linspace(1, numOfEpoch, 20))), history.history['loss'], label='training loss')\n",
        "plt.plot(list(map(int, np.linspace(1, numOfEpoch, 20))), history.history['val_loss'], label='validation loss')\n",
        "plt.title(\"Loss\")\n",
        "plt.xlabel('Epoch')\n",
        "plt.ylabel('Loss')\n",
        "plt.show()\n",
        "\n",
        "plt.plot(list(map(int, np.linspace(1, numOfEpoch, 20))), history.history['accuracy'], label='accuracy')\n",
        "plt.plot(list(map(int, np.linspace(1, numOfEpoch, 20))), history.history['val_accuracy'], label='validation accuracy')\n",
        "plt.title('Accuracy')\n",
        "plt.xlabel('Epoch')\n",
        "plt.ylabel('Accuracy')\n",
        "plt.show()"
      ],
      "metadata": {
        "colab": {
          "base_uri": "https://localhost:8080/",
          "height": 573
        },
        "id": "QbOwyXBf-pCO",
        "outputId": "7e52c487-d88d-44c5-8178-2bb78d09d8d8"
      },
      "execution_count": 27,
      "outputs": [
        {
          "output_type": "display_data",
          "data": {
            "text/plain": [
              "<Figure size 432x288 with 1 Axes>"
            ],
            "image/png": "[encoded data removed]"
          },
          "metadata": {
            "needs_background": "light"
          }
        },
        {
          "output_type": "display_data",
          "data": {
            "text/plain": [
              "<Figure size 432x288 with 1 Axes>"
            ],
            "image/png": "[encoded data removed]"
          },
          "metadata": {
            "needs_background": "light"
          }
        }
      ]
    }
  ]
}